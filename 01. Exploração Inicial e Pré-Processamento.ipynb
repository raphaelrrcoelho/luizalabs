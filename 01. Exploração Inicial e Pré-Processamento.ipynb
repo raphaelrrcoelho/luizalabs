{
 "cells": [
  {
   "cell_type": "markdown",
   "metadata": {},
   "source": [
    "# Exploração Inicial"
   ]
  },
  {
   "cell_type": "code",
   "execution_count": 1,
   "metadata": {
    "collapsed": true
   },
   "outputs": [],
   "source": [
    "import numpy as np\n",
    "import pandas as pd\n",
    "import missingno as msno\n",
    "from matplotlib import pyplot as plt\n",
    "%matplotlib inline"
   ]
  },
  {
   "cell_type": "code",
   "execution_count": 2,
   "metadata": {},
   "outputs": [
    {
     "data": {
      "text/html": [
       "<div>\n",
       "<style>\n",
       "    .dataframe thead tr:only-child th {\n",
       "        text-align: right;\n",
       "    }\n",
       "\n",
       "    .dataframe thead th {\n",
       "        text-align: left;\n",
       "    }\n",
       "\n",
       "    .dataframe tbody tr th {\n",
       "        vertical-align: top;\n",
       "    }\n",
       "</style>\n",
       "<table border=\"1\" class=\"dataframe\">\n",
       "  <thead>\n",
       "    <tr style=\"text-align: right;\">\n",
       "      <th></th>\n",
       "      <th>order_id</th>\n",
       "      <th>code</th>\n",
       "      <th>quantity</th>\n",
       "      <th>price</th>\n",
       "      <th>pis_cofins</th>\n",
       "      <th>icms</th>\n",
       "      <th>tax_substitution</th>\n",
       "      <th>category</th>\n",
       "      <th>liquid_cost</th>\n",
       "      <th>order_status</th>\n",
       "      <th>capture_date</th>\n",
       "      <th>process_date</th>\n",
       "      <th>process_status</th>\n",
       "      <th>source_channel</th>\n",
       "    </tr>\n",
       "  </thead>\n",
       "  <tbody>\n",
       "    <tr>\n",
       "      <th>0</th>\n",
       "      <td>bcb59c839e78b2601374cbad9239ca7b</td>\n",
       "      <td>e6762ba2ffbca07ab6cee7551caeaad5</td>\n",
       "      <td>1</td>\n",
       "      <td>978.90</td>\n",
       "      <td>90.5483</td>\n",
       "      <td>0.0000</td>\n",
       "      <td>191.8416</td>\n",
       "      <td>4ece547755cba9e7fc14125bc895f31b</td>\n",
       "      <td>542.7065</td>\n",
       "      <td>entrega total</td>\n",
       "      <td>2016-06-11</td>\n",
       "      <td>2016-06-11</td>\n",
       "      <td>processado</td>\n",
       "      <td>b76eb9b8fc0f17098812da9117d3e500</td>\n",
       "    </tr>\n",
       "    <tr>\n",
       "      <th>1</th>\n",
       "      <td>4e91ee6b95895771dc9ee524e910a902</td>\n",
       "      <td>e6762ba2ffbca07ab6cee7551caeaad5</td>\n",
       "      <td>1</td>\n",
       "      <td>1036.29</td>\n",
       "      <td>95.8568</td>\n",
       "      <td>176.1693</td>\n",
       "      <td>0.0000</td>\n",
       "      <td>4ece547755cba9e7fc14125bc895f31b</td>\n",
       "      <td>542.7065</td>\n",
       "      <td>em rota de entrega</td>\n",
       "      <td>2016-06-11</td>\n",
       "      <td>2016-06-11</td>\n",
       "      <td>processado</td>\n",
       "      <td>b76eb9b8fc0f17098812da9117d3e500</td>\n",
       "    </tr>\n",
       "    <tr>\n",
       "      <th>2</th>\n",
       "      <td>88eb0ac86af1a521c0831298d22dea8b</td>\n",
       "      <td>e6762ba2ffbca07ab6cee7551caeaad5</td>\n",
       "      <td>1</td>\n",
       "      <td>978.90</td>\n",
       "      <td>90.5483</td>\n",
       "      <td>0.0000</td>\n",
       "      <td>191.8416</td>\n",
       "      <td>4ece547755cba9e7fc14125bc895f31b</td>\n",
       "      <td>542.7065</td>\n",
       "      <td>entrega total</td>\n",
       "      <td>2016-06-12</td>\n",
       "      <td>2016-06-12</td>\n",
       "      <td>processado</td>\n",
       "      <td>b76eb9b8fc0f17098812da9117d3e500</td>\n",
       "    </tr>\n",
       "    <tr>\n",
       "      <th>3</th>\n",
       "      <td>dee418152a36314b4aee6ce9cf94fcbf</td>\n",
       "      <td>e6762ba2ffbca07ab6cee7551caeaad5</td>\n",
       "      <td>1</td>\n",
       "      <td>978.90</td>\n",
       "      <td>90.5483</td>\n",
       "      <td>176.2020</td>\n",
       "      <td>0.0000</td>\n",
       "      <td>4ece547755cba9e7fc14125bc895f31b</td>\n",
       "      <td>542.7065</td>\n",
       "      <td>cancelado</td>\n",
       "      <td>2016-06-13</td>\n",
       "      <td>0000-00-00</td>\n",
       "      <td>captado</td>\n",
       "      <td>b76eb9b8fc0f17098812da9117d3e500</td>\n",
       "    </tr>\n",
       "    <tr>\n",
       "      <th>4</th>\n",
       "      <td>1c175bc61b9b659bbf011b2e5e3dcec6</td>\n",
       "      <td>e6762ba2ffbca07ab6cee7551caeaad5</td>\n",
       "      <td>1</td>\n",
       "      <td>976.05</td>\n",
       "      <td>90.2846</td>\n",
       "      <td>0.0000</td>\n",
       "      <td>192.3325</td>\n",
       "      <td>4ece547755cba9e7fc14125bc895f31b</td>\n",
       "      <td>542.7065</td>\n",
       "      <td>entrega total</td>\n",
       "      <td>2016-06-13</td>\n",
       "      <td>2016-06-13</td>\n",
       "      <td>processado</td>\n",
       "      <td>b76eb9b8fc0f17098812da9117d3e500</td>\n",
       "    </tr>\n",
       "  </tbody>\n",
       "</table>\n",
       "</div>"
      ],
      "text/plain": [
       "                           order_id                              code  \\\n",
       "0  bcb59c839e78b2601374cbad9239ca7b  e6762ba2ffbca07ab6cee7551caeaad5   \n",
       "1  4e91ee6b95895771dc9ee524e910a902  e6762ba2ffbca07ab6cee7551caeaad5   \n",
       "2  88eb0ac86af1a521c0831298d22dea8b  e6762ba2ffbca07ab6cee7551caeaad5   \n",
       "3  dee418152a36314b4aee6ce9cf94fcbf  e6762ba2ffbca07ab6cee7551caeaad5   \n",
       "4  1c175bc61b9b659bbf011b2e5e3dcec6  e6762ba2ffbca07ab6cee7551caeaad5   \n",
       "\n",
       "   quantity    price  pis_cofins      icms  tax_substitution  \\\n",
       "0         1   978.90     90.5483    0.0000          191.8416   \n",
       "1         1  1036.29     95.8568  176.1693            0.0000   \n",
       "2         1   978.90     90.5483    0.0000          191.8416   \n",
       "3         1   978.90     90.5483  176.2020            0.0000   \n",
       "4         1   976.05     90.2846    0.0000          192.3325   \n",
       "\n",
       "                           category  liquid_cost        order_status  \\\n",
       "0  4ece547755cba9e7fc14125bc895f31b     542.7065       entrega total   \n",
       "1  4ece547755cba9e7fc14125bc895f31b     542.7065  em rota de entrega   \n",
       "2  4ece547755cba9e7fc14125bc895f31b     542.7065       entrega total   \n",
       "3  4ece547755cba9e7fc14125bc895f31b     542.7065           cancelado   \n",
       "4  4ece547755cba9e7fc14125bc895f31b     542.7065       entrega total   \n",
       "\n",
       "  capture_date process_date process_status                    source_channel  \n",
       "0   2016-06-11   2016-06-11     processado  b76eb9b8fc0f17098812da9117d3e500  \n",
       "1   2016-06-11   2016-06-11     processado  b76eb9b8fc0f17098812da9117d3e500  \n",
       "2   2016-06-12   2016-06-12     processado  b76eb9b8fc0f17098812da9117d3e500  \n",
       "3   2016-06-13   0000-00-00        captado  b76eb9b8fc0f17098812da9117d3e500  \n",
       "4   2016-06-13   2016-06-13     processado  b76eb9b8fc0f17098812da9117d3e500  "
      ]
     },
     "execution_count": 2,
     "metadata": {},
     "output_type": "execute_result"
    }
   ],
   "source": [
    "df = pd.read_csv('desafio.csv')\n",
    "df.head()"
   ]
  },
  {
   "cell_type": "markdown",
   "metadata": {},
   "source": [
    "### Linhas e Colunas"
   ]
  },
  {
   "cell_type": "code",
   "execution_count": 3,
   "metadata": {},
   "outputs": [
    {
     "name": "stdout",
     "output_type": "stream",
     "text": [
      "The train dataset contains 179149 rows and 14 columns\n"
     ]
    }
   ],
   "source": [
    "# Taking a look at how many rows and columns the dataset contains\n",
    "rows = df.shape[0]\n",
    "columns = df.shape[1]\n",
    "print(\"The train dataset contains {0} rows and {1} columns\".format(rows, columns))"
   ]
  },
  {
   "cell_type": "markdown",
   "metadata": {},
   "source": [
    "### Verificando ausência de dados"
   ]
  },
  {
   "cell_type": "code",
   "execution_count": 4,
   "metadata": {},
   "outputs": [
    {
     "name": "stdout",
     "output_type": "stream",
     "text": [
      "('Algum dado nulo?', False)\n"
     ]
    }
   ],
   "source": [
    "# any() applied twice to check run the isnull check across all columns.\n",
    "print('Algum dado nulo?', df.isnull().any().any())"
   ]
  },
  {
   "cell_type": "markdown",
   "metadata": {},
   "source": [
    "### Visualizando zeros nas colunas númericas"
   ]
  },
  {
   "cell_type": "code",
   "execution_count": 5,
   "metadata": {
    "scrolled": false
   },
   "outputs": [
    {
     "data": {
      "image/png": "[encoded data removed]",
      "text/plain": [
       "<matplotlib.figure.Figure at 0x113c50e90>"
      ]
     },
     "metadata": {},
     "output_type": "display_data"
    }
   ],
   "source": [
    "df_copy = df.copy()\n",
    "df_copy = df_copy.replace(0, np.NaN)\n",
    "\n",
    "number_columns = ['pis_cofins','icms', 'tax_substitution', 'liquid_cost', 'price']\n",
    "\n",
    "# Nullity or missing values by columns\n",
    "msno.matrix(df=df_copy.loc[:, number_columns], figsize=(10, 30), color=(0.42, 0.1, 0.05))"
   ]
  },
  {
   "cell_type": "markdown",
   "metadata": {},
   "source": [
    "### Averiguando grupo de zeros"
   ]
  },
  {
   "cell_type": "code",
   "execution_count": 6,
   "metadata": {},
   "outputs": [
    {
     "name": "stdout",
     "output_type": "stream",
     "text": [
      "count                                18009\n",
      "unique                                   1\n",
      "top       9a97178a18aa6333aabdfb21de182b99\n",
      "freq                                 18009\n",
      "Name: category, dtype: object\n"
     ]
    },
    {
     "data": {
      "text/plain": [
       "count    18009.0\n",
       "mean         0.0\n",
       "std          0.0\n",
       "min          0.0\n",
       "25%          0.0\n",
       "50%          0.0\n",
       "75%          0.0\n",
       "max          0.0\n",
       "Name: pis_cofins, dtype: float64"
      ]
     },
     "execution_count": 6,
     "metadata": {},
     "output_type": "execute_result"
    }
   ],
   "source": [
    "print(df.iloc[125454:143463, :].category.describe())\n",
    "df[df['category'] == '9a97178a18aa6333aabdfb21de182b99'].pis_cofins.describe()"
   ]
  },
  {
   "cell_type": "markdown",
   "metadata": {},
   "source": [
    "### Podemos notar um grande vazio na coluna de PIS/COFINS\n",
    "- Uma sequência esquisita pois se dá exatamente na sequência entre os índices 125454 e 143463\n",
    "- Todos os subitens com pis_cofins zerado são da categoria 9a97178a18aa6333aabdfb21de182b99. Como há produtos isentos deste imposto, assumiu-se que não é um erro."
   ]
  },
  {
   "cell_type": "markdown",
   "metadata": {},
   "source": [
    "### Notas e observações sobre os dados\n",
    "- PIS/COFINS são de 0% ou aproximadamente 9,25%.\n",
    "- Não há nenhuma cagegory isenta de ICMS\n",
    "- Os valores mais comuns da alíquota de ICMS são 0% e 18%\n",
    "- order_id são ordens de compra, com subitens. Cada subitem possui um code distinto.\n",
    "- Uma ordem de compra é processada em sua totalidade. Caso não seja processada, todos os subitens ficarão como captados. Esta é a informação contida em process_status.\n",
    "- Uma ordem de compra é tem os mesmos status da ordem em todos os seus subitens. Portanto, por exemplo, suspeita de fraude caí sobre todos os subitens. O mesmo é válido para entrega parcial, entrega total, etc. Esta é a informação contida em order_status.\n",
    "- Uma ordem de compra tem apenas uma data de captura e uma data de processamento.\n",
    "- Subitens designados por code tem variação de preço.\n",
    "- As fórmulas para cálculo de lucro e margem são:\n",
    "$$net\\_price= gross\\_price - pis\\_cofins - icms$$\n",
    "$$net\\_margin= (net\\_price - liquid\\_cost) / gross\\_price$$\n",
    "\n",
    "$$gross\\_cost= liquid\\_cost + tax\\_substitution$$\n",
    "$$gross\\_margin= (gross\\_price - gross\\_cost)/ gross\\_price$$\n",
    "\n",
    "- process_status e order_status se relacionam desta maneira:\n",
    "\n",
    "```\n",
    "-captado\n",
    "      cancelado\n",
    "      cancelado boleto não pago\n",
    "      cancelado dados divergentes\n",
    "      cancelado fraude confirmada\n",
    "      cancelado não aprovado\n",
    "      em rota de devolução\n",
    "      fraude confirmada\n",
    "      pendente processamento\n",
    "      suspeita de fraude\n",
    "      suspenso barragem\n",
    "-processado\n",
    "      disponível para retirada.\n",
    "      em rota de entrega\n",
    "      entrega parcial\n",
    "      entrega total\n",
    "      processado\n",
    "      solicitação de cancelamento\n",
    "      solicitação de troca\n",
    "```"
   ]
  },
  {
   "cell_type": "markdown",
   "metadata": {},
   "source": [
    "# Pré-Processamento\n",
    "- Hipótese: Assume-se que o order_status não influencia no forecast de demanda. Portanto, não será considerado\n",
    "- Para simplificação, não será levado em conta o process_status. Captado ou Processado, a demanda se realizou e, para fins de forecast, assume-se que isto não será relevante."
   ]
  },
  {
   "cell_type": "markdown",
   "metadata": {},
   "source": [
    "### Linhas com data de processamento devem ter o process_status como 'processado'"
   ]
  },
  {
   "cell_type": "code",
   "execution_count": 7,
   "metadata": {},
   "outputs": [
    {
     "name": "stderr",
     "output_type": "stream",
     "text": [
      "/Users/raphaelrrcoelho/anaconda3/envs/luizalabs/lib/python2.7/site-packages/ipykernel_launcher.py:1: UserWarning: Boolean Series key will be reindexed to match DataFrame index.\n",
      "  \"\"\"Entry point for launching an IPython kernel.\n"
     ]
    }
   ],
   "source": [
    "df[df.process_status == 'captado'][df.process_date != '0000-00-00'].process_status = 'processado'"
   ]
  },
  {
   "cell_type": "code",
   "execution_count": 8,
   "metadata": {
    "collapsed": true
   },
   "outputs": [],
   "source": [
    "df = df.drop(['order_status', 'process_status'], axis = 1)"
   ]
  },
  {
   "cell_type": "markdown",
   "metadata": {},
   "source": [
    "### Convertendo capture_date em yearmon e dando drop no process_date\n",
    "- Hipótese: Assume-se que o process_date não é relevante para forecast de demanda. capture_date deve cobrir a sazonalidade"
   ]
  },
  {
   "cell_type": "code",
   "execution_count": 9,
   "metadata": {
    "collapsed": true
   },
   "outputs": [],
   "source": [
    "capture_date = pd.to_datetime(df.capture_date, errors='coerce')\n",
    "\n",
    "df['sale_yearmon'] = capture_date.map(lambda x: str(x.year) + '-' + str(x.month).zfill(2))\n",
    "df['sale_year'] = capture_date.map(lambda x: str(x.year))\n",
    "df['sale_month'] = capture_date.map(lambda x: str(x.month))\n",
    "df['sale_day'] = capture_date.map(lambda x: str(x.day))\n",
    "\n",
    "df=df.rename(columns = {'capture_date':'sale_date'})\n",
    "df = df.drop(['process_date'], axis = 1)"
   ]
  },
  {
   "cell_type": "markdown",
   "metadata": {},
   "source": [
    "### Adição de colunas relacionadas a margens e preço líquido"
   ]
  },
  {
   "cell_type": "code",
   "execution_count": 10,
   "metadata": {
    "collapsed": true
   },
   "outputs": [],
   "source": [
    "gross_cost = df['liquid_cost'] + df['tax_substitution']\n",
    "gross_profit = df['price'] - gross_cost\n",
    "\n",
    "\n",
    "net_price = df['price'] - df['pis_cofins'] - df['icms']\n",
    "net_profit = net_price - df['liquid_cost']\n",
    "\n",
    "\n",
    "df['gross_margin'] = gross_profit / df['price']\n",
    "df['net_margin'] = net_profit / df['price']\n",
    "\n",
    "df = df.drop(['liquid_cost'], axis = 1)"
   ]
  },
  {
   "cell_type": "code",
   "execution_count": 11,
   "metadata": {},
   "outputs": [
    {
     "data": {
      "text/html": [
       "<div>\n",
       "<style>\n",
       "    .dataframe thead tr:only-child th {\n",
       "        text-align: right;\n",
       "    }\n",
       "\n",
       "    .dataframe thead th {\n",
       "        text-align: left;\n",
       "    }\n",
       "\n",
       "    .dataframe tbody tr th {\n",
       "        vertical-align: top;\n",
       "    }\n",
       "</style>\n",
       "<table border=\"1\" class=\"dataframe\">\n",
       "  <thead>\n",
       "    <tr style=\"text-align: right;\">\n",
       "      <th></th>\n",
       "      <th>order_id</th>\n",
       "      <th>code</th>\n",
       "      <th>quantity</th>\n",
       "      <th>price</th>\n",
       "      <th>pis_cofins</th>\n",
       "      <th>icms</th>\n",
       "      <th>tax_substitution</th>\n",
       "      <th>category</th>\n",
       "      <th>sale_date</th>\n",
       "      <th>source_channel</th>\n",
       "      <th>sale_yearmon</th>\n",
       "      <th>sale_year</th>\n",
       "      <th>sale_month</th>\n",
       "      <th>sale_day</th>\n",
       "      <th>gross_margin</th>\n",
       "      <th>net_margin</th>\n",
       "    </tr>\n",
       "  </thead>\n",
       "  <tbody>\n",
       "    <tr>\n",
       "      <th>179144</th>\n",
       "      <td>3865248aaa3ddf5dca346f14caf8dcef</td>\n",
       "      <td>1c234775cae774823f38abe6721e61a4</td>\n",
       "      <td>2</td>\n",
       "      <td>891.21</td>\n",
       "      <td>82.4369</td>\n",
       "      <td>151.5057</td>\n",
       "      <td>0.0</td>\n",
       "      <td>388128822cef4b4f102ae881e040a64b</td>\n",
       "      <td>2017-05-30</td>\n",
       "      <td>fc7020775a7cdf161ab5267985c54601</td>\n",
       "      <td>2017-05</td>\n",
       "      <td>2017</td>\n",
       "      <td>5</td>\n",
       "      <td>30</td>\n",
       "      <td>0.754147</td>\n",
       "      <td>0.491647</td>\n",
       "    </tr>\n",
       "    <tr>\n",
       "      <th>179145</th>\n",
       "      <td>519c339baad17b8692a0c8bb86a45586</td>\n",
       "      <td>1c234775cae774823f38abe6721e61a4</td>\n",
       "      <td>1</td>\n",
       "      <td>449.40</td>\n",
       "      <td>41.5695</td>\n",
       "      <td>80.8920</td>\n",
       "      <td>0.0</td>\n",
       "      <td>388128822cef4b4f102ae881e040a64b</td>\n",
       "      <td>2017-05-31</td>\n",
       "      <td>b76eb9b8fc0f17098812da9117d3e500</td>\n",
       "      <td>2017-05</td>\n",
       "      <td>2017</td>\n",
       "      <td>5</td>\n",
       "      <td>31</td>\n",
       "      <td>0.512446</td>\n",
       "      <td>0.239946</td>\n",
       "    </tr>\n",
       "    <tr>\n",
       "      <th>179146</th>\n",
       "      <td>0f4d6b4a1750214b3fc782e3a6029939</td>\n",
       "      <td>1c234775cae774823f38abe6721e61a4</td>\n",
       "      <td>1</td>\n",
       "      <td>507.28</td>\n",
       "      <td>46.9234</td>\n",
       "      <td>91.3104</td>\n",
       "      <td>0.0</td>\n",
       "      <td>388128822cef4b4f102ae881e040a64b</td>\n",
       "      <td>2017-05-31</td>\n",
       "      <td>fc7020775a7cdf161ab5267985c54601</td>\n",
       "      <td>2017-05</td>\n",
       "      <td>2017</td>\n",
       "      <td>5</td>\n",
       "      <td>31</td>\n",
       "      <td>0.568076</td>\n",
       "      <td>0.295576</td>\n",
       "    </tr>\n",
       "    <tr>\n",
       "      <th>179147</th>\n",
       "      <td>1ace6be0122c83e55dcfa05e3484f0b2</td>\n",
       "      <td>1c234775cae774823f38abe6721e61a4</td>\n",
       "      <td>1</td>\n",
       "      <td>446.90</td>\n",
       "      <td>41.3383</td>\n",
       "      <td>75.9730</td>\n",
       "      <td>0.0</td>\n",
       "      <td>388128822cef4b4f102ae881e040a64b</td>\n",
       "      <td>2017-06-01</td>\n",
       "      <td>b76eb9b8fc0f17098812da9117d3e500</td>\n",
       "      <td>2017-06</td>\n",
       "      <td>2017</td>\n",
       "      <td>6</td>\n",
       "      <td>1</td>\n",
       "      <td>0.509719</td>\n",
       "      <td>0.247219</td>\n",
       "    </tr>\n",
       "    <tr>\n",
       "      <th>179148</th>\n",
       "      <td>3d47c183dd47f21879031cc2814206b0</td>\n",
       "      <td>1c234775cae774823f38abe6721e61a4</td>\n",
       "      <td>1</td>\n",
       "      <td>507.28</td>\n",
       "      <td>46.9234</td>\n",
       "      <td>91.3104</td>\n",
       "      <td>0.0</td>\n",
       "      <td>388128822cef4b4f102ae881e040a64b</td>\n",
       "      <td>2017-06-01</td>\n",
       "      <td>fc7020775a7cdf161ab5267985c54601</td>\n",
       "      <td>2017-06</td>\n",
       "      <td>2017</td>\n",
       "      <td>6</td>\n",
       "      <td>1</td>\n",
       "      <td>0.568076</td>\n",
       "      <td>0.295576</td>\n",
       "    </tr>\n",
       "  </tbody>\n",
       "</table>\n",
       "</div>"
      ],
      "text/plain": [
       "                                order_id                              code  \\\n",
       "179144  3865248aaa3ddf5dca346f14caf8dcef  1c234775cae774823f38abe6721e61a4   \n",
       "179145  519c339baad17b8692a0c8bb86a45586  1c234775cae774823f38abe6721e61a4   \n",
       "179146  0f4d6b4a1750214b3fc782e3a6029939  1c234775cae774823f38abe6721e61a4   \n",
       "179147  1ace6be0122c83e55dcfa05e3484f0b2  1c234775cae774823f38abe6721e61a4   \n",
       "179148  3d47c183dd47f21879031cc2814206b0  1c234775cae774823f38abe6721e61a4   \n",
       "\n",
       "        quantity   price  pis_cofins      icms  tax_substitution  \\\n",
       "179144         2  891.21     82.4369  151.5057               0.0   \n",
       "179145         1  449.40     41.5695   80.8920               0.0   \n",
       "179146         1  507.28     46.9234   91.3104               0.0   \n",
       "179147         1  446.90     41.3383   75.9730               0.0   \n",
       "179148         1  507.28     46.9234   91.3104               0.0   \n",
       "\n",
       "                                category   sale_date  \\\n",
       "179144  388128822cef4b4f102ae881e040a64b  2017-05-30   \n",
       "179145  388128822cef4b4f102ae881e040a64b  2017-05-31   \n",
       "179146  388128822cef4b4f102ae881e040a64b  2017-05-31   \n",
       "179147  388128822cef4b4f102ae881e040a64b  2017-06-01   \n",
       "179148  388128822cef4b4f102ae881e040a64b  2017-06-01   \n",
       "\n",
       "                          source_channel sale_yearmon sale_year sale_month  \\\n",
       "179144  fc7020775a7cdf161ab5267985c54601      2017-05      2017          5   \n",
       "179145  b76eb9b8fc0f17098812da9117d3e500      2017-05      2017          5   \n",
       "179146  fc7020775a7cdf161ab5267985c54601      2017-05      2017          5   \n",
       "179147  b76eb9b8fc0f17098812da9117d3e500      2017-06      2017          6   \n",
       "179148  fc7020775a7cdf161ab5267985c54601      2017-06      2017          6   \n",
       "\n",
       "       sale_day  gross_margin  net_margin  \n",
       "179144       30      0.754147    0.491647  \n",
       "179145       31      0.512446    0.239946  \n",
       "179146       31      0.568076    0.295576  \n",
       "179147        1      0.509719    0.247219  \n",
       "179148        1      0.568076    0.295576  "
      ]
     },
     "execution_count": 11,
     "metadata": {},
     "output_type": "execute_result"
    }
   ],
   "source": [
    "df.tail()"
   ]
  },
  {
   "cell_type": "code",
   "execution_count": 12,
   "metadata": {
    "collapsed": true
   },
   "outputs": [],
   "source": [
    "df.to_csv('preprocessed.csv', index=False)"
   ]
  },
  {
   "cell_type": "code",
   "execution_count": null,
   "metadata": {
    "collapsed": true
   },
   "outputs": [],
   "source": []
  }
 ],
 "metadata": {
  "kernelspec": {
   "display_name": "Python 2",
   "language": "python",
   "name": "python2"
  },
  "language_info": {
   "codemirror_mode": {
    "name": "ipython",
    "version": 2
   },
   "file_extension": ".py",
   "mimetype": "text/x-python",
   "name": "python",
   "nbconvert_exporter": "python",
   "pygments_lexer": "ipython2",
   "version": "2.7.13"
  }
 },
 "nbformat": 4,
 "nbformat_minor": 2
}

{
 "cells": [
  {
   "cell_type": "code",
   "execution_count": 4,
   "metadata": {
    "collapsed": true
   },
   "outputs": [],
   "source": [
    "import numpy as np\n",
    "import pandas as pd\n",
    "\n",
    "from scipy.spatial import distance_matrix\n",
    "from scipy.cluster.hierarchy import dendrogram, linkage, fcluster\n",
    "\n",
    "from scipy.cluster.hierarchy import cophenet\n",
    "from scipy.spatial.distance import pdist\n",
    "\n",
    "from matplotlib import pyplot as plt\n",
    "%matplotlib inline"
   ]
  },
  {
   "cell_type": "code",
   "execution_count": 5,
   "metadata": {},
   "outputs": [],
   "source": [
    "df = pd.read_csv('preprocessed.csv')\n",
    "\n",
    "n = 20000 #len(df) #179149\n",
    "\n",
    "df_slice = df.iloc[:n, :]\n",
    "\n",
    "products = len(df_slice.code.unique())"
   ]
  },
  {
   "cell_type": "code",
   "execution_count": 6,
   "metadata": {
    "scrolled": true
   },
   "outputs": [
    {
     "data": {
      "text/html": [
       "<div>\n",
       "<style>\n",
       "    .dataframe thead tr:only-child th {\n",
       "        text-align: right;\n",
       "    }\n",
       "\n",
       "    .dataframe thead th {\n",
       "        text-align: left;\n",
       "    }\n",
       "\n",
       "    .dataframe tbody tr th {\n",
       "        vertical-align: top;\n",
       "    }\n",
       "</style>\n",
       "<table border=\"1\" class=\"dataframe\">\n",
       "  <thead>\n",
       "    <tr style=\"text-align: right;\">\n",
       "      <th></th>\n",
       "      <th>order_id</th>\n",
       "      <th>code</th>\n",
       "      <th>quantity</th>\n",
       "      <th>price</th>\n",
       "      <th>pis_cofins</th>\n",
       "      <th>icms</th>\n",
       "      <th>tax_substitution</th>\n",
       "      <th>category</th>\n",
       "      <th>sale_date</th>\n",
       "      <th>source_channel</th>\n",
       "      <th>sale_yearmon</th>\n",
       "      <th>sale_year</th>\n",
       "      <th>sale_month</th>\n",
       "      <th>sale_day</th>\n",
       "      <th>gross_margin</th>\n",
       "      <th>net_margin</th>\n",
       "    </tr>\n",
       "  </thead>\n",
       "  <tbody>\n",
       "    <tr>\n",
       "      <th>0</th>\n",
       "      <td>bcb59c839e78b2601374cbad9239ca7b</td>\n",
       "      <td>e6762ba2ffbca07ab6cee7551caeaad5</td>\n",
       "      <td>1</td>\n",
       "      <td>978.90</td>\n",
       "      <td>90.5483</td>\n",
       "      <td>0.0000</td>\n",
       "      <td>191.8416</td>\n",
       "      <td>4ece547755cba9e7fc14125bc895f31b</td>\n",
       "      <td>2016-06-11</td>\n",
       "      <td>b76eb9b8fc0f17098812da9117d3e500</td>\n",
       "      <td>2016-06</td>\n",
       "      <td>2016</td>\n",
       "      <td>6</td>\n",
       "      <td>11</td>\n",
       "      <td>0.249619</td>\n",
       "      <td>0.353096</td>\n",
       "    </tr>\n",
       "    <tr>\n",
       "      <th>1</th>\n",
       "      <td>4e91ee6b95895771dc9ee524e910a902</td>\n",
       "      <td>e6762ba2ffbca07ab6cee7551caeaad5</td>\n",
       "      <td>1</td>\n",
       "      <td>1036.29</td>\n",
       "      <td>95.8568</td>\n",
       "      <td>176.1693</td>\n",
       "      <td>0.0000</td>\n",
       "      <td>4ece547755cba9e7fc14125bc895f31b</td>\n",
       "      <td>2016-06-11</td>\n",
       "      <td>b76eb9b8fc0f17098812da9117d3e500</td>\n",
       "      <td>2016-06</td>\n",
       "      <td>2016</td>\n",
       "      <td>6</td>\n",
       "      <td>11</td>\n",
       "      <td>0.476299</td>\n",
       "      <td>0.213799</td>\n",
       "    </tr>\n",
       "    <tr>\n",
       "      <th>2</th>\n",
       "      <td>88eb0ac86af1a521c0831298d22dea8b</td>\n",
       "      <td>e6762ba2ffbca07ab6cee7551caeaad5</td>\n",
       "      <td>1</td>\n",
       "      <td>978.90</td>\n",
       "      <td>90.5483</td>\n",
       "      <td>0.0000</td>\n",
       "      <td>191.8416</td>\n",
       "      <td>4ece547755cba9e7fc14125bc895f31b</td>\n",
       "      <td>2016-06-12</td>\n",
       "      <td>b76eb9b8fc0f17098812da9117d3e500</td>\n",
       "      <td>2016-06</td>\n",
       "      <td>2016</td>\n",
       "      <td>6</td>\n",
       "      <td>12</td>\n",
       "      <td>0.249619</td>\n",
       "      <td>0.353096</td>\n",
       "    </tr>\n",
       "    <tr>\n",
       "      <th>3</th>\n",
       "      <td>dee418152a36314b4aee6ce9cf94fcbf</td>\n",
       "      <td>e6762ba2ffbca07ab6cee7551caeaad5</td>\n",
       "      <td>1</td>\n",
       "      <td>978.90</td>\n",
       "      <td>90.5483</td>\n",
       "      <td>176.2020</td>\n",
       "      <td>0.0000</td>\n",
       "      <td>4ece547755cba9e7fc14125bc895f31b</td>\n",
       "      <td>2016-06-13</td>\n",
       "      <td>b76eb9b8fc0f17098812da9117d3e500</td>\n",
       "      <td>2016-06</td>\n",
       "      <td>2016</td>\n",
       "      <td>6</td>\n",
       "      <td>13</td>\n",
       "      <td>0.445596</td>\n",
       "      <td>0.173096</td>\n",
       "    </tr>\n",
       "    <tr>\n",
       "      <th>4</th>\n",
       "      <td>1c175bc61b9b659bbf011b2e5e3dcec6</td>\n",
       "      <td>e6762ba2ffbca07ab6cee7551caeaad5</td>\n",
       "      <td>1</td>\n",
       "      <td>976.05</td>\n",
       "      <td>90.2846</td>\n",
       "      <td>0.0000</td>\n",
       "      <td>192.3325</td>\n",
       "      <td>4ece547755cba9e7fc14125bc895f31b</td>\n",
       "      <td>2016-06-13</td>\n",
       "      <td>b76eb9b8fc0f17098812da9117d3e500</td>\n",
       "      <td>2016-06</td>\n",
       "      <td>2016</td>\n",
       "      <td>6</td>\n",
       "      <td>13</td>\n",
       "      <td>0.246925</td>\n",
       "      <td>0.351477</td>\n",
       "    </tr>\n",
       "  </tbody>\n",
       "</table>\n",
       "</div>"
      ],
      "text/plain": [
       "                           order_id                              code  \\\n",
       "0  bcb59c839e78b2601374cbad9239ca7b  e6762ba2ffbca07ab6cee7551caeaad5   \n",
       "1  4e91ee6b95895771dc9ee524e910a902  e6762ba2ffbca07ab6cee7551caeaad5   \n",
       "2  88eb0ac86af1a521c0831298d22dea8b  e6762ba2ffbca07ab6cee7551caeaad5   \n",
       "3  dee418152a36314b4aee6ce9cf94fcbf  e6762ba2ffbca07ab6cee7551caeaad5   \n",
       "4  1c175bc61b9b659bbf011b2e5e3dcec6  e6762ba2ffbca07ab6cee7551caeaad5   \n",
       "\n",
       "   quantity    price  pis_cofins      icms  tax_substitution  \\\n",
       "0         1   978.90     90.5483    0.0000          191.8416   \n",
       "1         1  1036.29     95.8568  176.1693            0.0000   \n",
       "2         1   978.90     90.5483    0.0000          191.8416   \n",
       "3         1   978.90     90.5483  176.2020            0.0000   \n",
       "4         1   976.05     90.2846    0.0000          192.3325   \n",
       "\n",
       "                           category   sale_date  \\\n",
       "0  4ece547755cba9e7fc14125bc895f31b  2016-06-11   \n",
       "1  4ece547755cba9e7fc14125bc895f31b  2016-06-11   \n",
       "2  4ece547755cba9e7fc14125bc895f31b  2016-06-12   \n",
       "3  4ece547755cba9e7fc14125bc895f31b  2016-06-13   \n",
       "4  4ece547755cba9e7fc14125bc895f31b  2016-06-13   \n",
       "\n",
       "                     source_channel sale_yearmon  sale_year  sale_month  \\\n",
       "0  b76eb9b8fc0f17098812da9117d3e500      2016-06       2016           6   \n",
       "1  b76eb9b8fc0f17098812da9117d3e500      2016-06       2016           6   \n",
       "2  b76eb9b8fc0f17098812da9117d3e500      2016-06       2016           6   \n",
       "3  b76eb9b8fc0f17098812da9117d3e500      2016-06       2016           6   \n",
       "4  b76eb9b8fc0f17098812da9117d3e500      2016-06       2016           6   \n",
       "\n",
       "   sale_day  gross_margin  net_margin  \n",
       "0        11      0.249619    0.353096  \n",
       "1        11      0.476299    0.213799  \n",
       "2        12      0.249619    0.353096  \n",
       "3        13      0.445596    0.173096  \n",
       "4        13      0.246925    0.351477  "
      ]
     },
     "execution_count": 6,
     "metadata": {},
     "output_type": "execute_result"
    }
   ],
   "source": [
    "df_slice.head()"
   ]
  },
  {
   "cell_type": "markdown",
   "metadata": {},
   "source": [
    "### Normalizando as variáveis numéricas"
   ]
  },
  {
   "cell_type": "code",
   "execution_count": 7,
   "metadata": {
    "collapsed": true
   },
   "outputs": [],
   "source": [
    "normalizable = ['quantity', 'price', 'pis_cofins', 'icms', 'tax_substitution', 'gross_margin', 'net_margin']\n",
    "df_norm = df_slice.loc[:, normalizable]\n",
    "df_norm = (df_norm - df_norm.mean()) / df_norm.std()\n",
    "\n",
    "df_norm = df_norm.drop(['quantity'], axis = 1) # Removing quantity because it distorts the clustering and it's the variable to forecast"
   ]
  },
  {
   "cell_type": "markdown",
   "metadata": {},
   "source": [
    "### Transformação de variáveis categóricas em dummies"
   ]
  },
  {
   "cell_type": "code",
   "execution_count": 8,
   "metadata": {
    "collapsed": true
   },
   "outputs": [],
   "source": [
    "non_normalizable = [c for c in df_slice.columns.tolist() if c not in normalizable]\n",
    "df_clustering = df_slice.loc[:, non_normalizable]\n",
    "\n",
    "categorical = ['code', 'category', 'source_channel', 'sale_year', 'sale_month', 'sale_day']\n",
    "prefix = ['code', 'category', 'source_channel', 'sale_year', 'sale_month', 'sale_day']\n",
    "df_clustering = pd.get_dummies(df_clustering, columns=categorical, prefix=categorical)\n",
    "\n",
    "df_clustering = df_clustering.drop(['sale_yearmon', 'sale_date'], axis = 1)"
   ]
  },
  {
   "cell_type": "code",
   "execution_count": 9,
   "metadata": {},
   "outputs": [
    {
     "data": {
      "text/html": [
       "<div>\n",
       "<style>\n",
       "    .dataframe thead tr:only-child th {\n",
       "        text-align: right;\n",
       "    }\n",
       "\n",
       "    .dataframe thead th {\n",
       "        text-align: left;\n",
       "    }\n",
       "\n",
       "    .dataframe tbody tr th {\n",
       "        vertical-align: top;\n",
       "    }\n",
       "</style>\n",
       "<table border=\"1\" class=\"dataframe\">\n",
       "  <thead>\n",
       "    <tr style=\"text-align: right;\">\n",
       "      <th></th>\n",
       "      <th>order_id</th>\n",
       "      <th>code_193628b6634713730d3c506f2da0ff58</th>\n",
       "      <th>code_29424aaf6e27a8dbe4b7273a0a39131d</th>\n",
       "      <th>code_2ab0e87dbce6ac45502aa1d2a8265933</th>\n",
       "      <th>code_32ceebf3efea1d04ace4183d20d4da5b</th>\n",
       "      <th>code_374e1947dcb8f4848f4ada6f04921edd</th>\n",
       "      <th>code_54209126056016c7c391c0c8fd8e6eff</th>\n",
       "      <th>code_5fb59bee157577ee04a269e52af88598</th>\n",
       "      <th>code_60424117a2618c7184687046fa5693c4</th>\n",
       "      <th>code_723f73c85e91fc31d147dfade389d4f9</th>\n",
       "      <th>...</th>\n",
       "      <th>sale_day_28</th>\n",
       "      <th>sale_day_29</th>\n",
       "      <th>sale_day_30</th>\n",
       "      <th>sale_day_31</th>\n",
       "      <th>price</th>\n",
       "      <th>pis_cofins</th>\n",
       "      <th>icms</th>\n",
       "      <th>tax_substitution</th>\n",
       "      <th>gross_margin</th>\n",
       "      <th>net_margin</th>\n",
       "    </tr>\n",
       "  </thead>\n",
       "  <tbody>\n",
       "    <tr>\n",
       "      <th>0</th>\n",
       "      <td>bcb59c839e78b2601374cbad9239ca7b</td>\n",
       "      <td>0</td>\n",
       "      <td>0</td>\n",
       "      <td>0</td>\n",
       "      <td>0</td>\n",
       "      <td>0</td>\n",
       "      <td>0</td>\n",
       "      <td>0</td>\n",
       "      <td>0</td>\n",
       "      <td>0</td>\n",
       "      <td>...</td>\n",
       "      <td>0</td>\n",
       "      <td>0</td>\n",
       "      <td>0</td>\n",
       "      <td>0</td>\n",
       "      <td>4.966524</td>\n",
       "      <td>4.957126</td>\n",
       "      <td>-0.959076</td>\n",
       "      <td>5.858899</td>\n",
       "      <td>-0.720297</td>\n",
       "      <td>1.054539</td>\n",
       "    </tr>\n",
       "    <tr>\n",
       "      <th>1</th>\n",
       "      <td>4e91ee6b95895771dc9ee524e910a902</td>\n",
       "      <td>0</td>\n",
       "      <td>0</td>\n",
       "      <td>0</td>\n",
       "      <td>0</td>\n",
       "      <td>0</td>\n",
       "      <td>0</td>\n",
       "      <td>0</td>\n",
       "      <td>0</td>\n",
       "      <td>0</td>\n",
       "      <td>...</td>\n",
       "      <td>0</td>\n",
       "      <td>0</td>\n",
       "      <td>0</td>\n",
       "      <td>0</td>\n",
       "      <td>5.364558</td>\n",
       "      <td>5.354211</td>\n",
       "      <td>4.867540</td>\n",
       "      <td>-0.636959</td>\n",
       "      <td>0.853604</td>\n",
       "      <td>-0.100404</td>\n",
       "    </tr>\n",
       "    <tr>\n",
       "      <th>2</th>\n",
       "      <td>88eb0ac86af1a521c0831298d22dea8b</td>\n",
       "      <td>0</td>\n",
       "      <td>0</td>\n",
       "      <td>0</td>\n",
       "      <td>0</td>\n",
       "      <td>0</td>\n",
       "      <td>0</td>\n",
       "      <td>0</td>\n",
       "      <td>0</td>\n",
       "      <td>0</td>\n",
       "      <td>...</td>\n",
       "      <td>0</td>\n",
       "      <td>0</td>\n",
       "      <td>0</td>\n",
       "      <td>0</td>\n",
       "      <td>4.966524</td>\n",
       "      <td>4.957126</td>\n",
       "      <td>-0.959076</td>\n",
       "      <td>5.858899</td>\n",
       "      <td>-0.720297</td>\n",
       "      <td>1.054539</td>\n",
       "    </tr>\n",
       "    <tr>\n",
       "      <th>3</th>\n",
       "      <td>dee418152a36314b4aee6ce9cf94fcbf</td>\n",
       "      <td>0</td>\n",
       "      <td>0</td>\n",
       "      <td>0</td>\n",
       "      <td>0</td>\n",
       "      <td>0</td>\n",
       "      <td>0</td>\n",
       "      <td>0</td>\n",
       "      <td>0</td>\n",
       "      <td>0</td>\n",
       "      <td>...</td>\n",
       "      <td>0</td>\n",
       "      <td>0</td>\n",
       "      <td>0</td>\n",
       "      <td>0</td>\n",
       "      <td>4.966524</td>\n",
       "      <td>4.957126</td>\n",
       "      <td>4.868622</td>\n",
       "      <td>-0.636959</td>\n",
       "      <td>0.640424</td>\n",
       "      <td>-0.437884</td>\n",
       "    </tr>\n",
       "    <tr>\n",
       "      <th>4</th>\n",
       "      <td>1c175bc61b9b659bbf011b2e5e3dcec6</td>\n",
       "      <td>0</td>\n",
       "      <td>0</td>\n",
       "      <td>0</td>\n",
       "      <td>0</td>\n",
       "      <td>0</td>\n",
       "      <td>0</td>\n",
       "      <td>0</td>\n",
       "      <td>0</td>\n",
       "      <td>0</td>\n",
       "      <td>...</td>\n",
       "      <td>0</td>\n",
       "      <td>0</td>\n",
       "      <td>0</td>\n",
       "      <td>0</td>\n",
       "      <td>4.946757</td>\n",
       "      <td>4.937401</td>\n",
       "      <td>-0.959076</td>\n",
       "      <td>5.875521</td>\n",
       "      <td>-0.739002</td>\n",
       "      <td>1.041118</td>\n",
       "    </tr>\n",
       "  </tbody>\n",
       "</table>\n",
       "<p>5 rows × 82 columns</p>\n",
       "</div>"
      ],
      "text/plain": [
       "                           order_id  code_193628b6634713730d3c506f2da0ff58  \\\n",
       "0  bcb59c839e78b2601374cbad9239ca7b                                      0   \n",
       "1  4e91ee6b95895771dc9ee524e910a902                                      0   \n",
       "2  88eb0ac86af1a521c0831298d22dea8b                                      0   \n",
       "3  dee418152a36314b4aee6ce9cf94fcbf                                      0   \n",
       "4  1c175bc61b9b659bbf011b2e5e3dcec6                                      0   \n",
       "\n",
       "   code_29424aaf6e27a8dbe4b7273a0a39131d  \\\n",
       "0                                      0   \n",
       "1                                      0   \n",
       "2                                      0   \n",
       "3                                      0   \n",
       "4                                      0   \n",
       "\n",
       "   code_2ab0e87dbce6ac45502aa1d2a8265933  \\\n",
       "0                                      0   \n",
       "1                                      0   \n",
       "2                                      0   \n",
       "3                                      0   \n",
       "4                                      0   \n",
       "\n",
       "   code_32ceebf3efea1d04ace4183d20d4da5b  \\\n",
       "0                                      0   \n",
       "1                                      0   \n",
       "2                                      0   \n",
       "3                                      0   \n",
       "4                                      0   \n",
       "\n",
       "   code_374e1947dcb8f4848f4ada6f04921edd  \\\n",
       "0                                      0   \n",
       "1                                      0   \n",
       "2                                      0   \n",
       "3                                      0   \n",
       "4                                      0   \n",
       "\n",
       "   code_54209126056016c7c391c0c8fd8e6eff  \\\n",
       "0                                      0   \n",
       "1                                      0   \n",
       "2                                      0   \n",
       "3                                      0   \n",
       "4                                      0   \n",
       "\n",
       "   code_5fb59bee157577ee04a269e52af88598  \\\n",
       "0                                      0   \n",
       "1                                      0   \n",
       "2                                      0   \n",
       "3                                      0   \n",
       "4                                      0   \n",
       "\n",
       "   code_60424117a2618c7184687046fa5693c4  \\\n",
       "0                                      0   \n",
       "1                                      0   \n",
       "2                                      0   \n",
       "3                                      0   \n",
       "4                                      0   \n",
       "\n",
       "   code_723f73c85e91fc31d147dfade389d4f9     ...      sale_day_28  \\\n",
       "0                                      0     ...                0   \n",
       "1                                      0     ...                0   \n",
       "2                                      0     ...                0   \n",
       "3                                      0     ...                0   \n",
       "4                                      0     ...                0   \n",
       "\n",
       "   sale_day_29  sale_day_30  sale_day_31     price  pis_cofins      icms  \\\n",
       "0            0            0            0  4.966524    4.957126 -0.959076   \n",
       "1            0            0            0  5.364558    5.354211  4.867540   \n",
       "2            0            0            0  4.966524    4.957126 -0.959076   \n",
       "3            0            0            0  4.966524    4.957126  4.868622   \n",
       "4            0            0            0  4.946757    4.937401 -0.959076   \n",
       "\n",
       "   tax_substitution  gross_margin  net_margin  \n",
       "0          5.858899     -0.720297    1.054539  \n",
       "1         -0.636959      0.853604   -0.100404  \n",
       "2          5.858899     -0.720297    1.054539  \n",
       "3         -0.636959      0.640424   -0.437884  \n",
       "4          5.875521     -0.739002    1.041118  \n",
       "\n",
       "[5 rows x 82 columns]"
      ]
     },
     "execution_count": 9,
     "metadata": {},
     "output_type": "execute_result"
    }
   ],
   "source": [
    "df_clustering = pd.concat([df_clustering, df_norm], axis=1)\n",
    "df_clustering.head()"
   ]
  },
  {
   "cell_type": "code",
   "execution_count": 10,
   "metadata": {
    "collapsed": true
   },
   "outputs": [],
   "source": [
    "Z = linkage(df_clustering.iloc[:, 1:], 'average')"
   ]
  },
  {
   "cell_type": "code",
   "execution_count": 11,
   "metadata": {
    "collapsed": true
   },
   "outputs": [],
   "source": [
    "def fancy_dendrogram(*args, **kwargs):\n",
    "    max_d = kwargs.pop('max_d', None)\n",
    "    if max_d and 'color_threshold' not in kwargs:\n",
    "        kwargs['color_threshold'] = max_d\n",
    "    annotate_above = kwargs.pop('annotate_above', 0)\n",
    "\n",
    "    ddata = dendrogram(*args, **kwargs)\n",
    "\n",
    "    if kwargs.get('no_plot', True):\n",
    "        plt.title('Hierarchical Clustering Dendrogram')\n",
    "        plt.xlabel('points')\n",
    "        plt.ylabel('distance')\n",
    "        for i, d, c in zip(ddata['icoord'], ddata['dcoord'], ddata['color_list']):\n",
    "            x = 0.5 * sum(i[1:3])\n",
    "            y = d[1]\n",
    "            if y > annotate_above:\n",
    "                plt.plot(x, y, 'o', c=c)\n",
    "                plt.annotate(\"%.3g\" % y, (x, y), xytext=(0, -5),\n",
    "                             textcoords='offset points',\n",
    "                             va='top', ha='center')\n",
    "    return ddata"
   ]
  },
  {
   "cell_type": "code",
   "execution_count": 12,
   "metadata": {},
   "outputs": [
    {
     "data": {
      "image/png": "[encoded data removed]",
      "text/plain": [
       "<matplotlib.figure.Figure at 0x1101ade10>"
      ]
     },
     "metadata": {},
     "output_type": "display_data"
    }
   ],
   "source": [
    "fancy_dendrogram(\n",
    "    Z,\n",
    "    leaf_rotation=90.,\n",
    "    leaf_font_size=12.,\n",
    "    truncate_mode='lastp',  # show only the last p merged clusters\n",
    "    p=30,  # show only the last p merged clusters\n",
    ")\n",
    "plt.show()"
   ]
  },
  {
   "cell_type": "markdown",
   "metadata": {},
   "source": [
    "### Usar o Coeficiente de Correlação Cofenética para comparar (correlacionar) os pares de distâncias de todas as amostras com aqueles inferidos pelo agrupamento hierarquizado (clustering). Quanto mais próximo de 1, melhor o agrupamento preservou as distâncias originais"
   ]
  },
  {
   "cell_type": "code",
   "execution_count": 13,
   "metadata": {},
   "outputs": [
    {
     "data": {
      "text/plain": [
       "0.89978268177283138"
      ]
     },
     "execution_count": 13,
     "metadata": {},
     "output_type": "execute_result"
    }
   ],
   "source": [
    "c, coph_dists = cophenet(Z, pdist(df_clustering.iloc[:, 1:]))\n",
    "c"
   ]
  },
  {
   "cell_type": "markdown",
   "metadata": {},
   "source": [
    "### Trazer os labels dos agrupamentos de volta para o dataframe"
   ]
  },
  {
   "cell_type": "code",
   "execution_count": 14,
   "metadata": {},
   "outputs": [
    {
     "data": {
      "text/plain": [
       "14"
      ]
     },
     "execution_count": 14,
     "metadata": {},
     "output_type": "execute_result"
    }
   ],
   "source": [
    "products = len(df_slice.code.unique())\n",
    "products"
   ]
  },
  {
   "cell_type": "code",
   "execution_count": 15,
   "metadata": {},
   "outputs": [
    {
     "name": "stderr",
     "output_type": "stream",
     "text": [
      "/Users/raphaelrrcoelho/anaconda3/envs/luizalabs/lib/python2.7/site-packages/ipykernel_launcher.py:1: SettingWithCopyWarning: \n",
      "A value is trying to be set on a copy of a slice from a DataFrame.\n",
      "Try using .loc[row_indexer,col_indexer] = value instead\n",
      "\n",
      "See the caveats in the documentation: http://pandas.pydata.org/pandas-docs/stable/indexing.html#indexing-view-versus-copy\n",
      "  \"\"\"Entry point for launching an IPython kernel.\n"
     ]
    }
   ],
   "source": [
    "df_slice['labels'] = fcluster(Z, products, criterion='maxclust')"
   ]
  },
  {
   "cell_type": "markdown",
   "metadata": {},
   "source": [
    "### Analisando outliers"
   ]
  },
  {
   "cell_type": "code",
   "execution_count": 16,
   "metadata": {},
   "outputs": [
    {
     "data": {
      "text/plain": [
       "2017-01    2854\n",
       "2017-05    2486\n",
       "2016-10    2471\n",
       "2017-03    2170\n",
       "2016-11    1894\n",
       "2016-09    1555\n",
       "2016-08    1252\n",
       "2017-04    1213\n",
       "2016-12    1177\n",
       "2016-07    1149\n",
       "2017-02     883\n",
       "2016-06     835\n",
       "2017-06      61\n",
       "Name: sale_yearmon, dtype: int64"
      ]
     },
     "execution_count": 16,
     "metadata": {},
     "output_type": "execute_result"
    }
   ],
   "source": [
    "df_slice['sale_yearmon'].value_counts()"
   ]
  },
  {
   "cell_type": "code",
   "execution_count": 17,
   "metadata": {},
   "outputs": [
    {
     "data": {
      "text/html": [
       "<div>\n",
       "<style>\n",
       "    .dataframe thead tr:only-child th {\n",
       "        text-align: right;\n",
       "    }\n",
       "\n",
       "    .dataframe thead th {\n",
       "        text-align: left;\n",
       "    }\n",
       "\n",
       "    .dataframe tbody tr th {\n",
       "        vertical-align: top;\n",
       "    }\n",
       "</style>\n",
       "<table border=\"1\" class=\"dataframe\">\n",
       "  <thead>\n",
       "    <tr style=\"text-align: right;\">\n",
       "      <th></th>\n",
       "      <th>order_id</th>\n",
       "      <th>code</th>\n",
       "      <th>quantity</th>\n",
       "      <th>price</th>\n",
       "      <th>pis_cofins</th>\n",
       "      <th>icms</th>\n",
       "      <th>tax_substitution</th>\n",
       "      <th>category</th>\n",
       "      <th>sale_date</th>\n",
       "      <th>source_channel</th>\n",
       "      <th>sale_yearmon</th>\n",
       "      <th>sale_year</th>\n",
       "      <th>sale_month</th>\n",
       "      <th>sale_day</th>\n",
       "      <th>gross_margin</th>\n",
       "      <th>net_margin</th>\n",
       "      <th>labels</th>\n",
       "    </tr>\n",
       "  </thead>\n",
       "  <tbody>\n",
       "    <tr>\n",
       "      <th>2052</th>\n",
       "      <td>04d80cf4804ea939da3d0ff2717b30b6</td>\n",
       "      <td>60424117a2618c7184687046fa5693c4</td>\n",
       "      <td>8</td>\n",
       "      <td>719.28</td>\n",
       "      <td>66.5334</td>\n",
       "      <td>0.0</td>\n",
       "      <td>17.1175</td>\n",
       "      <td>388128822cef4b4f102ae881e040a64b</td>\n",
       "      <td>2017-01-31</td>\n",
       "      <td>fc7020775a7cdf161ab5267985c54601</td>\n",
       "      <td>2017-01</td>\n",
       "      <td>2017</td>\n",
       "      <td>1</td>\n",
       "      <td>31</td>\n",
       "      <td>0.9061</td>\n",
       "      <td>0.837398</td>\n",
       "      <td>12</td>\n",
       "    </tr>\n",
       "  </tbody>\n",
       "</table>\n",
       "</div>"
      ],
      "text/plain": [
       "                              order_id                              code  \\\n",
       "2052  04d80cf4804ea939da3d0ff2717b30b6  60424117a2618c7184687046fa5693c4   \n",
       "\n",
       "      quantity   price  pis_cofins  icms  tax_substitution  \\\n",
       "2052         8  719.28     66.5334   0.0           17.1175   \n",
       "\n",
       "                              category   sale_date  \\\n",
       "2052  388128822cef4b4f102ae881e040a64b  2017-01-31   \n",
       "\n",
       "                        source_channel sale_yearmon  sale_year  sale_month  \\\n",
       "2052  fc7020775a7cdf161ab5267985c54601      2017-01       2017           1   \n",
       "\n",
       "      sale_day  gross_margin  net_margin  labels  \n",
       "2052        31        0.9061    0.837398      12  "
      ]
     },
     "execution_count": 17,
     "metadata": {},
     "output_type": "execute_result"
    }
   ],
   "source": [
    "outliers_clusters = df_slice['labels'].value_counts()\n",
    "outliers_clusters = outliers_clusters[outliers_clusters == 1].index.tolist()\n",
    "df_slice[df_slice['labels'].isin(outliers_clusters)]"
   ]
  },
  {
   "cell_type": "markdown",
   "metadata": {},
   "source": [
    "### Outliers com preços mais elevados e quantidades maiores"
   ]
  },
  {
   "cell_type": "markdown",
   "metadata": {},
   "source": [
    "### Separar Mês 05 para Teste de Forecast"
   ]
  },
  {
   "cell_type": "code",
   "execution_count": 18,
   "metadata": {
    "collapsed": true
   },
   "outputs": [],
   "source": [
    "df_slice[df_slice['sale_yearmon'] < '2017-05'][['code', 'quantity', 'sale_date', 'labels']].to_csv('train_clustered.csv', index=False)"
   ]
  },
  {
   "cell_type": "code",
   "execution_count": 19,
   "metadata": {
    "collapsed": true
   },
   "outputs": [],
   "source": [
    "df_slice[df_slice['sale_yearmon'] >= '2017-05'][['code', 'quantity', 'sale_date', 'labels']].to_csv('test_clustered.csv', index=False)"
   ]
  },
  {
   "cell_type": "code",
   "execution_count": null,
   "metadata": {
    "collapsed": true
   },
   "outputs": [],
   "source": []
  }
 ],
 "metadata": {
  "kernelspec": {
   "display_name": "Python 2",
   "language": "python",
   "name": "python2"
  },
  "language_info": {
   "codemirror_mode": {
    "name": "ipython",
    "version": 2
   },
   "file_extension": ".py",
   "mimetype": "text/x-python",
   "name": "python",
   "nbconvert_exporter": "python",
   "pygments_lexer": "ipython2",
   "version": "2.7.13"
  }
 },
 "nbformat": 4,
 "nbformat_minor": 2
}
